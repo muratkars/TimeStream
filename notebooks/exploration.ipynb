{
 "cells": [
  {
   "cell_type": "code",
   "execution_count": null,
   "metadata": {},
   "outputs": [],
   "source": [
    "# Connect to Nessie and explore data versions\n",
    "from pyiceberg.catalog import load_catalog\n",
    "\n",
    "catalog = load_catalog(\"nessie\", **{\n",
    "    \"uri\": \"http://localhost:19120/api/v1\",\n",
    "    \"default_branch\": \"main\"\n",
    "})\n",
    "\n",
    "# List tables\n",
    "print(catalog.list_tables(\"timestream\"))\n",
    "\n",
    "# Query latest version\n",
    "df = spark.read.format(\"iceberg\").load(\"nessie.timestream.cleaned_trips\")\n",
    "df.show(5)\n",
    "\n",
    "# Time Travel Example (Read older snapshot)\n",
    "snapshot_id = \"your_snapshot_id_here\"\n",
    "df_old = spark.read.format(\"iceberg\").option(\"snapshot-id\", snapshot_id).load(\"nessie.timestream.cleaned_trips\")\n",
    "df_old.show(5)"
   ]
  }
 ],
 "metadata": {
  "language_info": {
   "name": "python"
  }
 },
 "nbformat": 4,
 "nbformat_minor": 2
}
